{
 "cells": [
  {
   "cell_type": "code",
   "execution_count": 1,
   "id": "206ee845",
   "metadata": {},
   "outputs": [
    {
     "name": "stdout",
     "output_type": "stream",
     "text": [
      "Welcome, dholu_bholu!\n"
     ]
    }
   ],
   "source": [
    "class User:\n",
    "    def __init__(self, username, password):\n",
    "        self.username = username\n",
    "        self.password = password\n",
    "\n",
    "class UserDatabase:\n",
    "    def __init__(self):\n",
    "        self.users = []\n",
    "\n",
    "    def register_user(self, username, password):\n",
    "        new_user = User(username, password)\n",
    "        self.users.append(new_user)\n",
    "\n",
    "    def login_user(self, username, password):\n",
    "        for user in self.users:\n",
    "            if user.username == username and user.password == password:\n",
    "                return user\n",
    "        return None\n",
    "\n",
    "#Example:\n",
    "user_database = UserDatabase()\n",
    "\n",
    "#User Registration\n",
    "user_database.register_user(\"dholu_bholu\", \"password123\")\n",
    "user_database.register_user(\"chutki_raju\", \"password_234\")\n",
    "\n",
    "#User Login\n",
    "logged_in_user = user_database.login_user(\"dholu_bholu\", \"password123\")\n",
    "if logged_in_user:\n",
    "    print(\"Welcome, \" + logged_in_user.username + \"!\")\n",
    "else:\n",
    "    print(\"Invalid credentials. Please try again.\")"
   ]
  },
  {
   "cell_type": "code",
   "execution_count": 2,
   "id": "2b8da795",
   "metadata": {},
   "outputs": [],
   "source": [
    "class MenuItem:\n",
    "    def __init__(self, name, price):\n",
    "        self.name = name\n",
    "        self.price = price\n",
    "\n",
    "class Menu:\n",
    "    def __init__(self):\n",
    "        self.menu_items = []\n",
    "\n",
    "    def add_item(self, item):\n",
    "        self.menu_items.append(item)\n",
    "\n",
    "    def remove_item(self, item):\n",
    "        self.menu_items.remove(item)\n",
    "\n",
    "#Example:\n",
    "menu = Menu()\n",
    "menu.add_item(MenuItem(\"Burger\", 150.00))\n",
    "menu.add_item(MenuItem(\"Pizza\", 200.00))\n",
    "menu.add_item(MenuItem(\"French fries\", 15.00))"
   ]
  },
  {
   "cell_type": "code",
   "execution_count": 3,
   "id": "3feff799",
   "metadata": {},
   "outputs": [
    {
     "name": "stdout",
     "output_type": "stream",
     "text": [
      "Total bill: 165.0\n"
     ]
    }
   ],
   "source": [
    "class Order:\n",
    "    def __init__(self):\n",
    "        self.items = []\n",
    "\n",
    "    def add_item(self, item):\n",
    "        self.items.append(item)\n",
    "\n",
    "    def remove_item(self, item):\n",
    "        self.items.remove(item)\n",
    "\n",
    "    def calculate_total(self):\n",
    "        total = 0\n",
    "        for item in self.items:\n",
    "            total += item.price\n",
    "        return total\n",
    "\n",
    "#Example:\n",
    "order = Order()\n",
    "order.add_item(menu.menu_items[0])  # Adding a coffee to the order\n",
    "order.add_item(menu.menu_items[2])  # Adding a sandwich to the order\n",
    "\n",
    "total_bill = order.calculate_total()\n",
    "print(\"Total bill:\", total_bill)"
   ]
  },
  {
   "cell_type": "code",
   "execution_count": 4,
   "id": "2085433b",
   "metadata": {},
   "outputs": [
    {
     "name": "stdout",
     "output_type": "stream",
     "text": [
      "Payment receipt: None\n"
     ]
    }
   ],
   "source": [
    "class Billing:\n",
    "    def calculate_bill(self, order):\n",
    "        # Calculate the bill based on the order, applying any discounts, taxes, or service charges\n",
    "        # Return the total bill amount\n",
    "        pass\n",
    "\n",
    "class Payment: \n",
    "    def process_payment(self, amount, payment_method):\n",
    "        # Process the payment using the specified payment method\n",
    "        # Return a receipt or transaction ID\n",
    "        pass \n",
    "    \n",
    "# Example usage:\n",
    "billing = Billing() \n",
    "total_bill = billing.calculate_bill(order)\n",
    "\n",
    "payment = Payment()\n",
    "receipt = payment.process_payment(total_bill, \"Credit Card\")\n",
    "print(\"Payment receipt:\", receipt)"
   ]
  },
  {
   "cell_type": "code",
   "execution_count": null,
   "id": "870d80b9",
   "metadata": {},
   "outputs": [],
   "source": []
  }
 ],
 "metadata": {
  "kernelspec": {
   "display_name": "Python 3 (ipykernel)",
   "language": "python",
   "name": "python3"
  },
  "language_info": {
   "codemirror_mode": {
    "name": "ipython",
    "version": 3
   },
   "file_extension": ".py",
   "mimetype": "text/x-python",
   "name": "python",
   "nbconvert_exporter": "python",
   "pygments_lexer": "ipython3",
   "version": "3.10.9"
  }
 },
 "nbformat": 4,
 "nbformat_minor": 5
}
